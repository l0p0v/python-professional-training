{
 "cells": [
  {
   "cell_type": "code",
   "execution_count": 44,
   "metadata": {
    "collapsed": true
   },
   "outputs": [
    {
     "name": "stdout",
     "output_type": "stream",
     "text": [
      "this isn't a comment\n"
     ]
    }
   ],
   "source": [
    "# this is a comment\n",
    "# this is also a comment\n",
    "print(\"this isn't a comment\")"
   ]
  },
  {
   "cell_type": "code",
   "execution_count": 45,
   "outputs": [
    {
     "data": {
      "text/plain": "' this is a comment\\nthe comment continues here,\\nhere too\\nand here it ends '"
     },
     "execution_count": 45,
     "metadata": {},
     "output_type": "execute_result"
    }
   ],
   "source": [
    "\"\"\" this is a comment\n",
    "the comment continues here,\n",
    "here too\n",
    "and here it ends \"\"\""
   ],
   "metadata": {
    "collapsed": false
   }
  },
  {
   "cell_type": "code",
   "execution_count": 46,
   "outputs": [
    {
     "name": "stdout",
     "output_type": "stream",
     "text": [
      "hello world!\n",
      "20\n",
      "20.5\n"
     ]
    }
   ],
   "source": [
    "print(\"hello world!\")\n",
    "print(20)\n",
    "print(20.5)"
   ],
   "metadata": {
    "collapsed": false
   }
  },
  {
   "cell_type": "code",
   "execution_count": 47,
   "outputs": [
    {
     "name": "stdout",
     "output_type": "stream",
     "text": [
      "Apple 20 30.45\n"
     ]
    }
   ],
   "source": [
    "print(\"Apple\", 20, 30.45)"
   ],
   "metadata": {
    "collapsed": false
   }
  },
  {
   "cell_type": "code",
   "execution_count": 48,
   "outputs": [
    {
     "name": "stdout",
     "output_type": "stream",
     "text": [
      "Apple - Pear - Grape\n"
     ]
    }
   ],
   "source": [
    "print(\"Apple\", \"Pear\", \"Grape\", sep=\" - \")"
   ],
   "metadata": {
    "collapsed": false
   }
  },
  {
   "cell_type": "code",
   "execution_count": 49,
   "outputs": [
    {
     "name": "stdout",
     "output_type": "stream",
     "text": [
      "Apple Pear Fim"
     ]
    }
   ],
   "source": [
    "print(\"Apple\", \"Pear\", end=\" Fim\")"
   ],
   "metadata": {
    "collapsed": false
   }
  },
  {
   "cell_type": "code",
   "execution_count": 50,
   "outputs": [
    {
     "name": "stdout",
     "output_type": "stream",
     "text": [
      "This is a long text,\n",
      "I want to break the line\n"
     ]
    }
   ],
   "source": [
    "print(\"This is a long text,\\nI want to break the line\")"
   ],
   "metadata": {
    "collapsed": false
   }
  },
  {
   "cell_type": "code",
   "execution_count": 51,
   "outputs": [
    {
     "name": "stdout",
     "output_type": "stream",
     "text": [
      "Apple\n",
      "Pear\n"
     ]
    }
   ],
   "source": [
    "print(\"Apple\", \"Pear\", sep='\\n')"
   ],
   "metadata": {
    "collapsed": false
   }
  },
  {
   "cell_type": "code",
   "execution_count": 52,
   "outputs": [
    {
     "name": "stdout",
     "output_type": "stream",
     "text": [
      "Felippe's total score was 10 points\n"
     ]
    }
   ],
   "source": [
    "print(\"%s's total score was %s points\" % (\"Felippe\", 10))"
   ],
   "metadata": {
    "collapsed": false
   }
  },
  {
   "cell_type": "code",
   "execution_count": 53,
   "outputs": [
    {
     "name": "stdout",
     "output_type": "stream",
     "text": [
      "Felippe's total score was 10 points\n"
     ]
    }
   ],
   "source": [
    "print(\"{}'s total score was {} points\".format(\"Felippe\", 10))"
   ],
   "metadata": {
    "collapsed": false
   }
  },
  {
   "cell_type": "code",
   "execution_count": 54,
   "outputs": [
    {
     "name": "stdout",
     "output_type": "stream",
     "text": [
      "Felippe's total score was 10 points\n"
     ]
    }
   ],
   "source": [
    "print(\"Felippe\" + \"'s total score was \" + \"10\" + \" points\")"
   ],
   "metadata": {
    "collapsed": false
   }
  },
  {
   "cell_type": "markdown",
   "source": [
    "#### 1 - Print your full name, age and height using a print for each value."
   ],
   "metadata": {
    "collapsed": false
   }
  },
  {
   "cell_type": "code",
   "execution_count": 56,
   "outputs": [
    {
     "name": "stdout",
     "output_type": "stream",
     "text": [
      "Felippe Andrade de Menezes\n",
      "17\n",
      "1.8\n"
     ]
    }
   ],
   "source": [
    "print(\"Felippe Andrade de Menezes\")\n",
    "print(17)\n",
    "print(1.8)"
   ],
   "metadata": {
    "collapsed": false
   }
  },
  {
   "cell_type": "raw",
   "source": [
    "2 - Print your full name, age and height using only one print for all values."
   ],
   "metadata": {
    "collapsed": false
   }
  },
  {
   "cell_type": "code",
   "execution_count": 57,
   "outputs": [
    {
     "name": "stdout",
     "output_type": "stream",
     "text": [
      "full name: Felippe Andrade de Menezes\n",
      "age: 17\n",
      "height: 1.8\n"
     ]
    }
   ],
   "source": [
    "print(f\"full name: {'Felippe Andrade de Menezes'}\\n\"\n",
    "      f\"age: {17}\\n\"\n",
    "      f\"height: {1.8}\")"
   ],
   "metadata": {
    "collapsed": false
   }
  },
  {
   "cell_type": "raw",
   "source": [
    "3 - Print 3 numbers of your choice in the same print, but separated by the '-' character."
   ],
   "metadata": {
    "collapsed": false
   }
  },
  {
   "cell_type": "code",
   "execution_count": 58,
   "outputs": [
    {
     "name": "stdout",
     "output_type": "stream",
     "text": [
      "1-5-7\n"
     ]
    }
   ],
   "source": [
    "print(1, 5, 7, sep=\"-\")"
   ],
   "metadata": {
    "collapsed": false
   }
  }
 ],
 "metadata": {
  "kernelspec": {
   "display_name": "Python 3",
   "language": "python",
   "name": "python3"
  },
  "language_info": {
   "codemirror_mode": {
    "name": "ipython",
    "version": 2
   },
   "file_extension": ".py",
   "mimetype": "text/x-python",
   "name": "python",
   "nbconvert_exporter": "python",
   "pygments_lexer": "ipython2",
   "version": "2.7.6"
  }
 },
 "nbformat": 4,
 "nbformat_minor": 0
}
