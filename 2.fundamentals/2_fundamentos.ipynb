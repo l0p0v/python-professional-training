{
 "cells": [
  {
   "cell_type": "markdown",
   "source": [
    "# Print and comments"
   ],
   "metadata": {
    "collapsed": false
   }
  },
  {
   "cell_type": "code",
   "execution_count": null,
   "metadata": {
    "collapsed": true,
    "pycharm": {
     "is_executing": true
    }
   },
   "outputs": [],
   "source": [
    "# this is a comment\n",
    "# this is also a comment\n",
    "print(\"this isn't a comment\")"
   ]
  },
  {
   "cell_type": "code",
   "execution_count": null,
   "outputs": [],
   "source": [
    "\"\"\" this is a comment\n",
    "the comment continues here,\n",
    "here too\n",
    "and here it ends \"\"\""
   ],
   "metadata": {
    "collapsed": false
   }
  },
  {
   "cell_type": "code",
   "execution_count": null,
   "outputs": [],
   "source": [
    "print(\"hello world!\")\n",
    "print(20)\n",
    "print(20.5)"
   ],
   "metadata": {
    "collapsed": false
   }
  },
  {
   "cell_type": "code",
   "execution_count": null,
   "outputs": [],
   "source": [
    "print(\"Apple\", 20, 30.45)"
   ],
   "metadata": {
    "collapsed": false
   }
  },
  {
   "cell_type": "code",
   "execution_count": null,
   "outputs": [],
   "source": [
    "print(\"Apple\", \"Pear\", \"Grape\", sep=\" - \")"
   ],
   "metadata": {
    "collapsed": false
   }
  },
  {
   "cell_type": "code",
   "execution_count": null,
   "outputs": [],
   "source": [
    "print(\"Apple\", \"Pear\", end=\" Fim\")"
   ],
   "metadata": {
    "collapsed": false
   }
  },
  {
   "cell_type": "code",
   "execution_count": null,
   "outputs": [],
   "source": [
    "print(\"This is a long text,\\nI want to break the line\")"
   ],
   "metadata": {
    "collapsed": false
   }
  },
  {
   "cell_type": "code",
   "execution_count": null,
   "outputs": [],
   "source": [
    "print(\"Apple\", \"Pear\", sep='\\n')"
   ],
   "metadata": {
    "collapsed": false
   }
  },
  {
   "cell_type": "code",
   "execution_count": null,
   "outputs": [],
   "source": [
    "print(\"%s's total score was %s points\" % (\"Felippe\", 10))"
   ],
   "metadata": {
    "collapsed": false
   }
  },
  {
   "cell_type": "code",
   "execution_count": null,
   "outputs": [],
   "source": [
    "print(\"{}'s total score was {} points\".format(\"Felippe\", 10))"
   ],
   "metadata": {
    "collapsed": false
   }
  },
  {
   "cell_type": "code",
   "execution_count": null,
   "outputs": [],
   "source": [
    "print(\"Felippe\" + \"'s total score was \" + \"10\" + \" points\")"
   ],
   "metadata": {
    "collapsed": false
   }
  },
  {
   "cell_type": "raw",
   "source": [
    "1 - Print your full name, age and height using a print for each value."
   ],
   "metadata": {
    "collapsed": false
   }
  },
  {
   "cell_type": "code",
   "execution_count": null,
   "outputs": [],
   "source": [
    "print(\"Felippe Andrade de Menezes\")\n",
    "print(17)\n",
    "print(1.8)"
   ],
   "metadata": {
    "collapsed": false
   }
  },
  {
   "cell_type": "raw",
   "source": [
    "2 - Print your full name, age and height using only one print for all values."
   ],
   "metadata": {
    "collapsed": false
   }
  },
  {
   "cell_type": "code",
   "execution_count": null,
   "outputs": [],
   "source": [
    "print(f\"full name: {'Felippe Andrade de Menezes'}\\n\"\n",
    "      f\"age: {17}\\n\"\n",
    "      f\"height: {1.8}\")"
   ],
   "metadata": {
    "collapsed": false
   }
  },
  {
   "cell_type": "raw",
   "source": [
    "3 - Print 3 numbers of your choice in the same print, but separated by the '-' character."
   ],
   "metadata": {
    "collapsed": false
   }
  },
  {
   "cell_type": "code",
   "execution_count": null,
   "outputs": [],
   "source": [
    "print(1, 5, 7, sep=\"-\")"
   ],
   "metadata": {
    "collapsed": false
   }
  },
  {
   "cell_type": "markdown",
   "source": [
    "# Variables"
   ],
   "metadata": {
    "collapsed": false
   }
  },
  {
   "cell_type": "code",
   "execution_count": null,
   "outputs": [],
   "source": [
    "_number = 1\n",
    "Number = 2\n",
    "number = 3\n",
    "number123 = 4\n",
    "print(_number, Number, number, number123)"
   ],
   "metadata": {
    "collapsed": false
   }
  },
  {
   "cell_type": "code",
   "execution_count": null,
   "outputs": [],
   "source": [
    "number = 10\n",
    "print(number)\n",
    "number = 20\n",
    "print(number)"
   ],
   "metadata": {
    "collapsed": false
   }
  },
  {
   "cell_type": "code",
   "execution_count": null,
   "outputs": [],
   "source": [
    "text = \"Hello World!\"\n",
    "print(text)"
   ],
   "metadata": {
    "collapsed": false
   }
  },
  {
   "cell_type": "markdown",
   "source": [
    "# Primitive Types"
   ],
   "metadata": {
    "collapsed": false
   }
  },
  {
   "cell_type": "code",
   "execution_count": null,
   "outputs": [],
   "source": [
    "variable = None\n",
    "print(variable)"
   ],
   "metadata": {
    "collapsed": false
   }
  },
  {
   "cell_type": "code",
   "execution_count": null,
   "outputs": [],
   "source": [
    "integer = 10\n",
    "print(integer)"
   ],
   "metadata": {
    "collapsed": false
   }
  },
  {
   "cell_type": "code",
   "execution_count": null,
   "outputs": [],
   "source": [
    "decimal = 1.53\n",
    "print(decimal)"
   ],
   "metadata": {
    "collapsed": false
   }
  },
  {
   "cell_type": "code",
   "execution_count": null,
   "outputs": [],
   "source": [
    "text = \"hello, this is a text\"\n",
    "print(text)"
   ],
   "metadata": {
    "collapsed": false
   }
  },
  {
   "cell_type": "code",
   "execution_count": null,
   "outputs": [],
   "source": [
    "var = True\n",
    "print(var)\n",
    "var = False\n",
    "print(var)"
   ],
   "metadata": {
    "collapsed": false
   }
  },
  {
   "cell_type": "code",
   "execution_count": null,
   "outputs": [],
   "source": [
    "var1 = 10\n",
    "var2 = var1\n",
    "print(var2)"
   ],
   "metadata": {
    "collapsed": false
   }
  },
  {
   "cell_type": "code",
   "execution_count": null,
   "outputs": [],
   "source": [
    "var = None\n",
    "print(var)\n",
    "var = 1\n",
    "print(var)\n",
    "var = \"text\"\n",
    "print(var)"
   ],
   "metadata": {
    "collapsed": false
   }
  },
  {
   "cell_type": "code",
   "execution_count": null,
   "outputs": [],
   "source": [
    "bankBalance = 100  # pascal case\n",
    "BankBalance = 100  # camel case\n",
    "bank_balance = 100  # snake case"
   ],
   "metadata": {
    "collapsed": false
   }
  },
  {
   "cell_type": "raw",
   "source": [
    "1 - Create a variable of each type and put some chosen value. Then print all these values."
   ],
   "metadata": {
    "collapsed": false
   }
  },
  {
   "cell_type": "code",
   "execution_count": null,
   "outputs": [],
   "source": [
    "string = \"hello world!\"\n",
    "integer = 157\n",
    "decimal = 2.69\n",
    "boolean = True\n",
    "print(string, integer, decimal, boolean, sep=\"\\n\")"
   ],
   "metadata": {
    "collapsed": false
   }
  },
  {
   "cell_type": "raw",
   "source": [
    "2 - Create variables to store, CPF and a variable that indicates if you are married, then print these values separately, but don't forget to print together what they mean."
   ],
   "metadata": {
    "collapsed": false
   }
  },
  {
   "cell_type": "code",
   "execution_count": null,
   "outputs": [],
   "source": [
    "name = \"Felippe Andrade\"\n",
    "CPF = \"529.577.767-74\"\n",
    "is_married = True\n",
    "print(f\"name: {name}\\n\"\n",
    "      f\"CPF: {CPF}\\n\"\n",
    "      f\"is married: {is_married}\")"
   ],
   "metadata": {
    "collapsed": false
   }
  },
  {
   "cell_type": "markdown",
   "source": [
    "# Formatting"
   ],
   "metadata": {
    "collapsed": false
   }
  },
  {
   "cell_type": "code",
   "execution_count": null,
   "outputs": [],
   "source": [
    "# %s (string)\n",
    "# %d (integer)\n",
    "# %f (float)"
   ],
   "metadata": {
    "collapsed": false
   }
  },
  {
   "cell_type": "code",
   "execution_count": null,
   "outputs": [],
   "source": [
    "name = \"Carol\"\n",
    "formatted_name = \"Her name is %s\" % name\n",
    "print(formatted_name)"
   ],
   "metadata": {
    "collapsed": false
   }
  },
  {
   "cell_type": "code",
   "execution_count": null,
   "outputs": [],
   "source": [
    "name = \"Asimov\"\n",
    "age = 21\n",
    "height = 1.71\n",
    "text = \"My name is %s. I've %d years and %.2fm of height\" % (name, age, height)\n",
    "print(text)"
   ],
   "metadata": {
    "collapsed": false
   }
  },
  {
   "cell_type": "code",
   "execution_count": null,
   "outputs": [],
   "source": [
    "giant_number = 0.123456789\n",
    "print(\"Giant number formatted: %.2f\" % giant_number)"
   ],
   "metadata": {
    "collapsed": false
   }
  },
  {
   "cell_type": "code",
   "execution_count": null,
   "outputs": [],
   "source": [
    "value = True\n",
    "print(\"The value is %s\" % value)\n",
    "print(\"The value is %d\" % value)"
   ],
   "metadata": {
    "collapsed": false
   }
  },
  {
   "cell_type": "code",
   "execution_count": null,
   "outputs": [],
   "source": [
    "value = False\n",
    "print(\"The value is %s\" % value)\n",
    "print(\"The value is %d\" % value)"
   ],
   "metadata": {
    "collapsed": false
   }
  },
  {
   "cell_type": "code",
   "execution_count": null,
   "outputs": [],
   "source": [
    "decimal = 23.4566\n",
    "print(\"The integer part is %d\" % decimal)"
   ],
   "metadata": {
    "collapsed": false
   }
  },
  {
   "cell_type": "code",
   "execution_count": null,
   "outputs": [],
   "source": [
    "text = \"Hello, thereby if break line,\\n\\tunderstand how break line?\\n\\t\\tend.\"\n",
    "print(text)"
   ],
   "metadata": {
    "collapsed": false
   }
  },
  {
   "cell_type": "code",
   "execution_count": null,
   "outputs": [],
   "source": [
    "text = \"Let a 'word' in quotation marks\"\n",
    "print(text)"
   ],
   "metadata": {
    "collapsed": false
   }
  },
  {
   "cell_type": "raw",
   "source": [
    "1 - Write and format the date you were born in day/month/year format. Don't forget to create 3 variables to store the day, month and year."
   ],
   "metadata": {
    "collapsed": false
   }
  },
  {
   "cell_type": "code",
   "execution_count": null,
   "outputs": [],
   "source": [
    "day = \"01\"\n",
    "month = \"06\"\n",
    "year = \"2005\"\n",
    "print(f\"I was born in {day}/{month}/{year}\")"
   ],
   "metadata": {
    "collapsed": false
   }
  },
  {
   "cell_type": "raw",
   "source": [
    "2 - Write and format the current hour and minute. Don't forget to create two variables to store the hour and minute."
   ],
   "metadata": {
    "collapsed": false
   },
   "execution_count": 0
  },
  {
   "cell_type": "code",
   "execution_count": null,
   "outputs": [],
   "source": [
    "hour = 22\n",
    "minute = 37\n",
    "print(f\"It's now {hour} hours and {minute} minutes\")"
   ],
   "metadata": {
    "collapsed": false
   }
  },
  {
   "cell_type": "raw",
   "source": [
    "3 - Write a program that contains the number of PI, which must have the exact value of 3.14159265359. Now format this number to have only five decimal places."
   ],
   "metadata": {
    "collapsed": false
   }
  },
  {
   "cell_type": "code",
   "execution_count": null,
   "outputs": [],
   "source": [
    "PI = 3.14159265359\n",
    "print(f\"The PI is {PI:.5f}\")"
   ],
   "metadata": {
    "collapsed": false
   }
  },
  {
   "cell_type": "markdown",
   "source": [
    "# Arithmetic Operators"
   ],
   "metadata": {
    "collapsed": false
   }
  },
  {
   "cell_type": "code",
   "execution_count": null,
   "outputs": [],
   "source": [
    "print(10 + 20)"
   ],
   "metadata": {
    "collapsed": false
   }
  },
  {
   "cell_type": "code",
   "execution_count": null,
   "outputs": [],
   "source": [
    "number = 10 + 10.5\n",
    "print(number)"
   ],
   "metadata": {
    "collapsed": false
   }
  },
  {
   "cell_type": "code",
   "execution_count": null,
   "outputs": [],
   "source": [
    "another_number = 30 + number\n",
    "print(another_number)"
   ],
   "metadata": {
    "collapsed": false
   }
  },
  {
   "cell_type": "code",
   "execution_count": null,
   "outputs": [],
   "source": [
    "number = 20 - 10\n",
    "print(number)"
   ],
   "metadata": {
    "collapsed": false
   }
  },
  {
   "cell_type": "code",
   "execution_count": null,
   "outputs": [],
   "source": [
    "number = 10 * 2\n",
    "print(number)"
   ],
   "metadata": {
    "collapsed": false
   }
  },
  {
   "cell_type": "code",
   "execution_count": null,
   "outputs": [],
   "source": [
    "number = 10 / 3\n",
    "print(number)"
   ],
   "metadata": {
    "collapsed": false
   }
  },
  {
   "cell_type": "code",
   "execution_count": null,
   "outputs": [],
   "source": [
    "number = 10 // 3\n",
    "print(number)"
   ],
   "metadata": {
    "collapsed": false
   }
  },
  {
   "cell_type": "code",
   "execution_count": null,
   "outputs": [],
   "source": [
    "number = 2 ** 4\n",
    "print(number)"
   ],
   "metadata": {
    "collapsed": false
   }
  },
  {
   "cell_type": "code",
   "execution_count": null,
   "outputs": [],
   "source": [
    "number = 4 % 3\n",
    "print(number)"
   ],
   "metadata": {
    "collapsed": false
   }
  },
  {
   "cell_type": "code",
   "execution_count": null,
   "outputs": [],
   "source": [
    "num1 = 10 * 2 + 1\n",
    "print(num1)"
   ],
   "metadata": {
    "collapsed": false
   }
  },
  {
   "cell_type": "code",
   "execution_count": null,
   "outputs": [],
   "source": [
    "num1 = 10 * (2 + 1)\n",
    "print(num1)"
   ],
   "metadata": {
    "collapsed": false
   }
  },
  {
   "cell_type": "code",
   "execution_count": null,
   "outputs": [],
   "source": [
    "num1 = 3 * 3 - 9\n",
    "print(num1)"
   ],
   "metadata": {
    "collapsed": false
   }
  },
  {
   "cell_type": "code",
   "execution_count": null,
   "outputs": [],
   "source": [
    "num1 = -3 * (3 - 9)\n",
    "print(num1)"
   ],
   "metadata": {
    "collapsed": false
   }
  },
  {
   "cell_type": "code",
   "execution_count": null,
   "outputs": [],
   "source": [
    "num1 = 20\n",
    "num2 = 40\n",
    "num3 = 60\n",
    "result = num1 + num2 + num3\n",
    "print(result)"
   ],
   "metadata": {
    "collapsed": false
   }
  },
  {
   "cell_type": "code",
   "execution_count": null,
   "outputs": [],
   "source": [
    "result *= 2\n",
    "print(result)"
   ],
   "metadata": {
    "collapsed": false
   }
  },
  {
   "cell_type": "code",
   "execution_count": null,
   "outputs": [],
   "source": [
    "a = 1\n",
    "a += 1\n",
    "print(a)"
   ],
   "metadata": {
    "collapsed": false
   }
  },
  {
   "cell_type": "raw",
   "source": [
    "1 - Create a program that has two variables, one receives the year we are in and the other the year you were born. Then subtract both to get an estimate of how old you are. Show this value in the program output."
   ],
   "metadata": {
    "collapsed": false
   }
  },
  {
   "cell_type": "code",
   "execution_count": null,
   "outputs": [],
   "source": [
    "current_year = 2022\n",
    "year_birth = 2005\n",
    "age = current_year - year_birth\n",
    "print(\"Your age is between %d and %d\" % (age - 1, age))"
   ],
   "metadata": {
    "collapsed": false
   }
  },
  {
   "cell_type": "raw",
   "source": [
    "2 - Create a program that takes the arithmetic mean between three numbers. These numbers must be saved in a variable. Show this value in the program output."
   ],
   "metadata": {
    "collapsed": false
   }
  },
  {
   "cell_type": "code",
   "execution_count": null,
   "outputs": [],
   "source": [
    "a = 10\n",
    "b = 15\n",
    "c = 6\n",
    "mean = (a + b + c) / 3\n",
    "print(\"Arithmetic mean is %.1f\" % mean)"
   ],
   "metadata": {
    "collapsed": false
   }
  },
  {
   "cell_type": "raw",
   "source": [
    "3 - Create a program that calculates BMI (body mass index). BMI is given by weight in KG divided by height in meters squared. Save these values in a variable. Show this value in the program output."
   ],
   "metadata": {
    "collapsed": false
   }
  },
  {
   "cell_type": "code",
   "execution_count": null,
   "outputs": [],
   "source": [
    "kg = 65.5\n",
    "height = 1.8\n",
    "bmi = kg / height ** 2\n",
    "print(\"The BMI is %.2f\" % bmi)"
   ],
   "metadata": {
    "collapsed": false
   }
  },
  {
   "cell_type": "raw",
   "source": [
    "4 - (Challenge) - You have a given number of Easter eggs to divide among a given number of people (two initial variables). Determine how many eggs will be left per person and how many eggs will be left over because they could not be divided equally. Remember the number of eggs per person is an integer."
   ],
   "metadata": {
    "collapsed": false
   }
  },
  {
   "cell_type": "code",
   "execution_count": null,
   "outputs": [],
   "source": [
    "eggs = 56\n",
    "people = 3\n",
    "eggs_per_people = eggs // people\n",
    "remaining_eggs = eggs % people\n",
    "print(f\"I initially have {eggs} eggs for {people} people.\")\n",
    "print(f\"Each of the {people} people will have {eggs_per_people} egg(s).\")\n",
    "if remaining_eggs:\n",
    "\tprint(f\"Remaining {remaining_eggs} egg(s) that could not be divided.\")"
   ],
   "metadata": {
    "collapsed": false
   }
  },
  {
   "cell_type": "markdown",
   "source": [
    "# Logical Operators"
   ],
   "metadata": {
    "collapsed": false
   }
  },
  {
   "cell_type": "code",
   "execution_count": null,
   "outputs": [],
   "source": [
    "print(result1:=True and False)"
   ],
   "metadata": {
    "collapsed": false
   }
  },
  {
   "cell_type": "code",
   "execution_count": null,
   "outputs": [],
   "source": [
    "print(result2:=True and True)"
   ],
   "metadata": {
    "collapsed": false
   }
  },
  {
   "cell_type": "code",
   "execution_count": null,
   "outputs": [],
   "source": [
    "var1 = True\n",
    "var2 = False\n",
    "var3 = False\n",
    "print(var1 and var2 and var3)"
   ],
   "metadata": {
    "collapsed": false
   }
  },
  {
   "cell_type": "code",
   "execution_count": null,
   "outputs": [],
   "source": [
    "good_weather = True\n",
    "mood = True\n",
    "go_market = good_weather and mood\n",
    "print(f\"Am I going to the market? {go_market}\")"
   ],
   "metadata": {
    "collapsed": false
   }
  },
  {
   "cell_type": "code",
   "execution_count": null,
   "outputs": [],
   "source": [
    "result = True or True\n",
    "print(result)"
   ],
   "metadata": {
    "collapsed": false
   }
  },
  {
   "cell_type": "code",
   "execution_count": null,
   "outputs": [],
   "source": [
    "result = True or False\n",
    "print(result)"
   ],
   "metadata": {
    "collapsed": false
   }
  },
  {
   "cell_type": "code",
   "execution_count": null,
   "outputs": [],
   "source": [
    "result = False or False\n",
    "print(result)"
   ],
   "metadata": {
    "collapsed": false
   }
  },
  {
   "cell_type": "code",
   "execution_count": null,
   "outputs": [],
   "source": [
    "is_programmer = True\n",
    "is_investor = False\n",
    "good_salary = is_programmer or is_investor\n",
    "print(f\"Will I get a good salary? {good_salary}\")"
   ],
   "metadata": {
    "collapsed": false
   }
  },
  {
   "cell_type": "code",
   "execution_count": null,
   "outputs": [],
   "source": [
    "result = True\n",
    "print(not result)"
   ],
   "metadata": {
    "collapsed": false
   }
  },
  {
   "cell_type": "code",
   "execution_count": null,
   "outputs": [],
   "source": [
    "open_door = False\n",
    "have_key = False\n",
    "print(f\"Am I locked? {not open_door and not have_key}\")"
   ],
   "metadata": {
    "collapsed": false
   }
  },
  {
   "cell_type": "code",
   "execution_count": null,
   "outputs": [],
   "source": [
    "# Priority\n",
    "# not, and, or"
   ],
   "metadata": {
    "collapsed": false
   }
  },
  {
   "cell_type": "code",
   "execution_count": null,
   "outputs": [],
   "source": [
    "bool1 = True or (False and True)\n",
    "print(bool1)"
   ],
   "metadata": {
    "collapsed": false
   }
  },
  {
   "cell_type": "code",
   "execution_count": null,
   "outputs": [],
   "source": [
    "bool2 = True or (not False)\n",
    "print(bool2)"
   ],
   "metadata": {
    "collapsed": false
   }
  },
  {
   "cell_type": "code",
   "execution_count": null,
   "outputs": [],
   "source": [
    "bool3 = True and (not (True or False))\n",
    "print(bool3)"
   ],
   "metadata": {
    "collapsed": false
   }
  },
  {
   "cell_type": "raw",
   "source": [
    "1 - Create a program that says \"if you need to go to the market\". You need to go to the market if \"no food\" or \"if it's Saturday\". Show the logical value in the program output, indicating yes or no."
   ],
   "metadata": {
    "collapsed": false
   }
  },
  {
   "cell_type": "code",
   "execution_count": null,
   "outputs": [],
   "source": [
    "no_food = False\n",
    "its_saturday = True\n",
    "print(f\"Do I need to go to the market? {no_food or its_saturday}\")"
   ],
   "metadata": {
    "collapsed": false
   }
  },
  {
   "cell_type": "raw",
   "source": [
    "2 - Create a program that answers \"if you can cross the street\" at the crosswalk. You can cross the street if the \"light is red\" and \"if there is no car coming from the right\" AND \"nor from the left\". Change the variables to verify that the program is correct. Show the logical value on the output."
   ],
   "metadata": {
    "collapsed": false
   }
  },
  {
   "cell_type": "code",
   "execution_count": null,
   "outputs": [],
   "source": [
    "light_red = True\n",
    "left_car = False\n",
    "right_car = False\n",
    "can_cross = light_red and (not left_car and not right_car)\n",
    "print(f\"Do I can cross the street? {can_cross}\")"
   ],
   "metadata": {
    "collapsed": false
   }
  },
  {
   "cell_type": "raw",
   "source": [
    "3 -Now do the same thing as in the previous exercise, but this time you are in a hurry and to cross the street you just need a red light \"OR\" no cars from the left or right. Change the variables to check the answer compared to the previous exercise. Show the logical value on the program output."
   ],
   "metadata": {
    "collapsed": false
   }
  },
  {
   "cell_type": "code",
   "execution_count": null,
   "outputs": [],
   "source": [
    "light_red = False\n",
    "left_car = True\n",
    "right_car = True\n",
    "can_cross = light_red or (not left_car and not right_car)\n",
    "print(f\"This time I'm in a hurry, can I cross the street? {can_cross}\")"
   ],
   "metadata": {
    "collapsed": false
   }
  },
  {
   "cell_type": "markdown",
   "source": [
    "# Casting"
   ],
   "metadata": {
    "collapsed": false
   }
  },
  {
   "cell_type": "code",
   "execution_count": null,
   "outputs": [],
   "source": [
    "text = \"hello\"\n",
    "number = 2\n",
    "decimal = 1.5\n",
    "boolean = True\n",
    "print(type(text))\n",
    "print(type(number))\n",
    "print(type(decimal))\n",
    "print(type(boolean))"
   ],
   "metadata": {
    "collapsed": false
   }
  },
  {
   "cell_type": "code",
   "execution_count": null,
   "outputs": [],
   "source": [
    "text1 = \"2\"\n",
    "text2 = \"1.5\"\n",
    "number1 = int(text1)\n",
    "number2 = float(text2)\n",
    "print(type(text1), type(number1))\n",
    "print(type(text2), type(number2))\n",
    "print(number1 + number2)"
   ],
   "metadata": {
    "collapsed": false
   }
  },
  {
   "cell_type": "code",
   "execution_count": null,
   "outputs": [],
   "source": [
    "num = 21.45646\n",
    "integer = int(num)\n",
    "print(f\"The integer part of {num} is {integer}\")"
   ],
   "metadata": {
    "collapsed": false
   }
  },
  {
   "cell_type": "code",
   "execution_count": null,
   "outputs": [],
   "source": [
    "text = \"The number is:\"\n",
    "number = 10.3\n",
    "number_str = str(number)\n",
    "print(text, number_str)\n",
    "print(type(number_str))"
   ],
   "metadata": {
    "collapsed": false
   }
  },
  {
   "cell_type": "code",
   "execution_count": null,
   "outputs": [],
   "source": [
    "number = 123\n",
    "text = str(number)\n",
    "number_of_digits = len(text)\n",
    "print(f\"The number {text} has {number_of_digits} digits.\")"
   ],
   "metadata": {
    "collapsed": false
   }
  },
  {
   "cell_type": "code",
   "execution_count": null,
   "outputs": [],
   "source": [
    "empty = None\n",
    "number_one = 15\n",
    "number_zero = 0\n",
    "text = \"Text\"\n",
    "text_empty = \"\"\n",
    "decimal_zero = 0.0\n",
    "decimal = 3.5\n",
    "\n",
    "print(f\"Variable has value: {bool(empty)}\\n\")\n",
    "\n",
    "print(f\"Number has value: {bool(number_one)}\")\n",
    "print(f\"Number has value: {bool(number_zero)}\\n\")\n",
    "\n",
    "print(f\"String has content: {bool(text)}\")\n",
    "print(f\"String has content: {bool(text_empty)}\\n\")\n",
    "\n",
    "print(f\"Float has value: {bool(decimal_zero)}\")\n",
    "print(f\"Float has value: {bool(decimal)}\")"
   ],
   "metadata": {
    "collapsed": false
   }
  },
  {
   "cell_type": "raw",
   "source": [
    "1 - Create a program that has a \"string type\" variable containing a number that indicates how much you have in the bank. Then deduct a thousand from this value and show it in the program output."
   ],
   "metadata": {
    "collapsed": false
   }
  },
  {
   "cell_type": "code",
   "execution_count": null,
   "outputs": [],
   "source": [
    "balance_str = \"1109\"\n",
    "balance = float(balance_str) - 1000\n",
    "print(f\"I has in bank ${balance:.2f}\")"
   ],
   "metadata": {
    "collapsed": false
   }
  },
  {
   "cell_type": "raw",
   "source": [
    "2 - Create a program that indicates if your bank balance is zero (logical value). Declare a variable to hold your bank balance."
   ],
   "metadata": {
    "collapsed": false
   }
  },
  {
   "cell_type": "code",
   "execution_count": null,
   "outputs": [],
   "source": [
    "balance = 11.09\n",
    "is_zeroed = True if balance == 0 else False\n",
    "print(f\"Zero balance? {is_zeroed}\")"
   ],
   "metadata": {
    "collapsed": false
   }
  },
  {
   "cell_type": "raw",
   "source": [
    "3 - Create a program that contains its height, but it should only show the integer part of its height in the program's output, as we want an estimate."
   ],
   "metadata": {
    "collapsed": false
   }
  },
  {
   "cell_type": "code",
   "execution_count": null,
   "outputs": [],
   "source": [
    "height = 1.8\n",
    "integer_height = int(height)\n",
    "print(f\"I'm at least {integer_height} meter(s) tall\")"
   ],
   "metadata": {
    "collapsed": false
   }
  },
  {
   "cell_type": "markdown",
   "source": [
    "# Input"
   ],
   "metadata": {
    "collapsed": false
   }
  },
  {
   "cell_type": "code",
   "execution_count": null,
   "outputs": [],
   "source": [
    "written_value = input()\n",
    "print(written_value, type(written_value))"
   ],
   "metadata": {
    "collapsed": false
   }
  },
  {
   "cell_type": "code",
   "execution_count": null,
   "outputs": [],
   "source": [
    "my_name = input()\n",
    "print(f\"My name is {my_name}\")"
   ],
   "metadata": {
    "collapsed": false
   }
  },
  {
   "cell_type": "code",
   "execution_count": null,
   "outputs": [],
   "source": [
    "day = input(\"Enter the day\")\n",
    "month = input(\"Enter the month\")\n",
    "year = input(\"Enter the year\")\n",
    "print(f\"The date entered was {day}/{month}/{year}\")"
   ],
   "metadata": {
    "collapsed": false
   }
  },
  {
   "cell_type": "code",
   "execution_count": null,
   "outputs": [],
   "source": [
    "user_input = input(\"Enter 1 for True and 0 for False\")\n",
    "integer_value = int(user_input)\n",
    "logical_value = bool(integer_value)\n",
    "\n",
    "print(f\"You choose: {logical_value}\")\n",
    "print(f\"or yet, you choose: {integer_value}\")"
   ],
   "metadata": {
    "collapsed": false
   }
  },
  {
   "cell_type": "raw",
   "source": [
    "1 - Create a program that reads two numbers by input and performs the division between them. Format the print to show the complete calculation."
   ],
   "metadata": {
    "collapsed": false
   }
  },
  {
   "cell_type": "code",
   "execution_count": null,
   "outputs": [],
   "source": [
    "num1 = int(input(\"Enter the first number: \"))\n",
    "num2 = int(input(\"Enter the second number: \"))\n",
    "division = num1 / num2\n",
    "\n",
    "print(f\"{num1} / {num2} = {division:.2f}\")"
   ],
   "metadata": {
    "collapsed": false
   }
  },
  {
   "cell_type": "raw",
   "source": [
    "2 - Create a program that displays the day, month, year, hour, minute and seconds entered by the user. format the value"
   ],
   "metadata": {
    "collapsed": false
   }
  },
  {
   "cell_type": "code",
   "execution_count": null,
   "outputs": [],
   "source": [
    "day = input(\"Enter the day: \")\n",
    "month = input(\"Enter the month: \")\n",
    "year = input(\"Enter the year: \")\n",
    "hour = input(\"Enter the hour: \")\n",
    "minute = input(\"Enter the minute: \")\n",
    "second = input(\"Enter the second: \")\n",
    "\n",
    "print(f\"{day}/{month}/{year} {hour}:{minute}:{second}\")"
   ],
   "metadata": {
    "collapsed": false
   }
  },
  {
   "cell_type": "markdown",
   "source": [
    "# Assignment Operators and Combination of Logical Operators"
   ],
   "metadata": {
    "collapsed": false
   }
  },
  {
   "cell_type": "code",
   "execution_count": null,
   "outputs": [],
   "source": [
    "number = 1\n",
    "number = number + 1\n",
    "print(number)"
   ],
   "metadata": {
    "collapsed": false
   }
  },
  {
   "cell_type": "code",
   "execution_count": null,
   "outputs": [],
   "source": [
    "number = 1\n",
    "number += 1\n",
    "print(number)"
   ],
   "metadata": {
    "collapsed": false
   }
  },
  {
   "cell_type": "code",
   "execution_count": null,
   "outputs": [],
   "source": [
    "number = 10\n",
    "number = number / 2\n",
    "print(number)"
   ],
   "metadata": {
    "collapsed": false
   }
  },
  {
   "cell_type": "code",
   "execution_count": null,
   "outputs": [],
   "source": [
    "number = 10\n",
    "number /= 2\n",
    "print(number)"
   ],
   "metadata": {
    "collapsed": false
   }
  },
  {
   "cell_type": "code",
   "execution_count": null,
   "outputs": [],
   "source": [
    "num = 20\n",
    "boolean = num == 10\n",
    "print(boolean)"
   ],
   "metadata": {
    "collapsed": false
   }
  },
  {
   "cell_type": "code",
   "execution_count": null,
   "outputs": [],
   "source": [
    "num = 20\n",
    "boolean = num != 10\n",
    "print(boolean)"
   ],
   "metadata": {
    "collapsed": false
   }
  },
  {
   "cell_type": "code",
   "execution_count": null,
   "outputs": [],
   "source": [
    "num1 = 10\n",
    "num2 = 20\n",
    "is_bigger = num1 > num2\n",
    "print(is_bigger)"
   ],
   "metadata": {
    "collapsed": false
   }
  },
  {
   "cell_type": "code",
   "execution_count": null,
   "outputs": [],
   "source": [
    "num1 = 21\n",
    "num2 = 20\n",
    "is_bigger = num1 <= num2\n",
    "print(is_bigger)"
   ],
   "metadata": {
    "collapsed": false
   }
  },
  {
   "cell_type": "code",
   "execution_count": null,
   "outputs": [],
   "source": [
    "num = 11\n",
    "boolean = 0 < num < 10\n",
    "print(boolean)"
   ],
   "metadata": {
    "collapsed": false
   }
  },
  {
   "cell_type": "code",
   "execution_count": null,
   "outputs": [],
   "source": [
    "#check if it's float type and equal to 10.1 or 20.2\n",
    "num = 10.1\n",
    "boolean = type(num) == float and (num == 10.1 or num == 20.2)\n",
    "print(boolean)"
   ],
   "metadata": {
    "collapsed": false
   }
  },
  {
   "cell_type": "raw",
   "source": [
    "1 - Create a program that responds if you passed a test. You only pass a test if your average is greater than or equal to 7 or if your exam grade is greater than or equal to 5. Read these values by input"
   ],
   "metadata": {
    "collapsed": false
   }
  },
  {
   "cell_type": "code",
   "execution_count": null,
   "outputs": [],
   "source": [
    "exam = float(input(\"Enter your exam score: \"))\n",
    "media = float(input(\"Enter your average on exams: \"))\n",
    "print(\"Approved:\", True if media >= 7 or exam >= 5 else False)"
   ],
   "metadata": {
    "collapsed": false
   }
  },
  {
   "cell_type": "raw",
   "source": [
    "2 - Create a program that tells you if the password is correct and therefore you have access to the system. The password must be saved in the code, and the attempt must be read by input."
   ],
   "metadata": {
    "collapsed": false
   }
  },
  {
   "cell_type": "code",
   "execution_count": null,
   "outputs": [],
   "source": [
    "password_default = 'admin'\n",
    "login = input(\"Enter a password: \").strip()\n",
    "print(\"Logged into the system:\", True if login == password_default else False)"
   ],
   "metadata": {
    "collapsed": false
   }
  },
  {
   "cell_type": "markdown",
   "source": [
    "# Operators over string"
   ],
   "metadata": {
    "collapsed": false
   }
  },
  {
   "cell_type": "code",
   "execution_count": null,
   "outputs": [],
   "source": [
    "text1 = \"hello\"\n",
    "text2 = \", \"\n",
    "text3 = \"alright?\"\n",
    "complete_text = text1 + text2 + text3\n",
    "print(complete_text)"
   ],
   "metadata": {
    "collapsed": false
   }
  },
  {
   "cell_type": "code",
   "execution_count": null,
   "outputs": [],
   "source": [
    "text1 = \"hello\"\n",
    "text1 += \" world!\"\n",
    "print(text1)"
   ],
   "metadata": {
    "collapsed": false
   }
  },
  {
   "cell_type": "code",
   "execution_count": null,
   "outputs": [],
   "source": [
    "text = \"Python is very productive \"\n",
    "repeat_text = text * 3\n",
    "print(repeat_text)"
   ],
   "metadata": {
    "collapsed": false
   }
  },
  {
   "cell_type": "code",
   "execution_count": null,
   "outputs": [],
   "source": [
    "text = \"example\"\n",
    "print(text[0])\n",
    "print(text[1])"
   ],
   "metadata": {
    "collapsed": false
   }
  },
  {
   "cell_type": "code",
   "execution_count": null,
   "outputs": [],
   "source": [
    "print(text[1:4])\n",
    "print(text[3:])\n",
    "print(text[:5])"
   ],
   "metadata": {
    "collapsed": false
   }
  },
  {
   "cell_type": "code",
   "execution_count": null,
   "outputs": [],
   "source": [
    "text = \"car\"\n",
    "print(text[-2])\n",
    "print(text[-2:])\n",
    "print(text[:-1])\n",
    "print(text[-3:-2])"
   ],
   "metadata": {
    "collapsed": false
   }
  },
  {
   "cell_type": "code",
   "execution_count": null,
   "outputs": [],
   "source": [
    "text = \"subway\"\n",
    "print(text[::-1])\n",
    "print(text[3::-1])\n",
    "print(text[3:1:-1])"
   ],
   "metadata": {
    "collapsed": false
   }
  },
  {
   "cell_type": "code",
   "execution_count": null,
   "outputs": [],
   "source": [
    "text = \"023\"\n",
    "text = \"1\" + text[1:]\n",
    "# text[0] = \"1\"\n",
    "print(text)"
   ],
   "metadata": {
    "collapsed": false
   }
  },
  {
   "cell_type": "code",
   "execution_count": null,
   "outputs": [],
   "source": [
    "text = \"abcdefg\"\n",
    "text = text[:3] + text[4:]\n",
    "print(text)"
   ],
   "metadata": {
    "collapsed": false
   }
  },
  {
   "cell_type": "markdown",
   "source": [
    "# String operators"
   ],
   "metadata": {
    "collapsed": false
   }
  },
  {
   "cell_type": "code",
   "execution_count": null,
   "outputs": [],
   "source": [
    "text1 = \"Hello\"\n",
    "text2 = \"Hello\"\n",
    "is_equal = text1 == text2\n",
    "print(f\"Are texts the same? {is_equal}\")"
   ],
   "metadata": {
    "collapsed": false
   }
  },
  {
   "cell_type": "code",
   "execution_count": null,
   "outputs": [],
   "source": [
    "print(\"a\" != \"b\")"
   ],
   "metadata": {
    "collapsed": false
   }
  },
  {
   "cell_type": "code",
   "execution_count": null,
   "outputs": [],
   "source": [
    "text = \"Programming\"\n",
    "print(\"a\" in text)\n",
    "print(\"e\" in text)\n",
    "print(\"Program\" in text)\n",
    "print(\"Program\" not in text)\n",
    "print(\"Python\" not in text)"
   ],
   "metadata": {
    "collapsed": false
   }
  },
  {
   "cell_type": "code",
   "execution_count": null,
   "outputs": [],
   "source": [
    "length = len(text)\n",
    "print(length)"
   ],
   "metadata": {
    "collapsed": false
   }
  },
  {
   "cell_type": "raw",
   "source": [
    "1 - Create a single string that contains your first and last name, then use slicing to separate the first name in one variable and your last name in another. Print these values."
   ],
   "metadata": {
    "collapsed": false
   }
  },
  {
   "cell_type": "code",
   "execution_count": null,
   "outputs": [],
   "source": [
    "full_name = \"Asimov Qaeda\".split()\n",
    "first_name = string[0]\n",
    "last_name = string[1]\n",
    "print(f\"first name: {first_name}\",\n",
    "      f\"last name: {last_name}\", sep='\\n')"
   ],
   "metadata": {
    "collapsed": false
   }
  },
  {
   "cell_type": "raw",
   "source": [
    "2 - Read a string through the input and remove the last character."
   ],
   "metadata": {
    "collapsed": false
   }
  },
  {
   "cell_type": "code",
   "execution_count": null,
   "outputs": [],
   "source": [
    "string = input()\n",
    "print(f\"string: {string}\")\n",
    "string = string[:-1]\n",
    "print(f\"updated string: {string}\")"
   ],
   "metadata": {
    "collapsed": false
   }
  },
  {
   "cell_type": "raw",
   "source": [
    "3 - Write a program that reads a string through the input and tells if it has a vowel."
   ],
   "metadata": {
    "collapsed": false
   }
  },
  {
   "cell_type": "code",
   "execution_count": null,
   "outputs": [],
   "source": [
    "string = input().lower()\n",
    "has_vowel = bool([word for word in string if word in \"aeiou\"])\n",
    "print(f\"string: '{string}'\",\n",
    "      f\"has vowel: {has_vowel}\", sep='\\n')"
   ],
   "metadata": {
    "collapsed": false
   }
  },
  {
   "cell_type": "raw",
   "source": [
    "4 - Write a program that inserts the word 'ABC' in the first position of a string read by input."
   ],
   "metadata": {
    "collapsed": false
   }
  },
  {
   "cell_type": "code",
   "execution_count": null,
   "outputs": [],
   "source": [
    "string = input()\n",
    "print(f\"string: {string}\")\n",
    "string = \"ABC\" + string\n",
    "print(f\"updated string: {string}\")"
   ],
   "metadata": {
    "collapsed": false
   }
  }
 ],
 "metadata": {
  "kernelspec": {
   "display_name": "Python 3",
   "language": "python",
   "name": "python3"
  },
  "language_info": {
   "codemirror_mode": {
    "name": "ipython",
    "version": 2
   },
   "file_extension": ".py",
   "mimetype": "text/x-python",
   "name": "python",
   "nbconvert_exporter": "python",
   "pygments_lexer": "ipython2",
   "version": "2.7.6"
  }
 },
 "nbformat": 4,
 "nbformat_minor": 0
}
