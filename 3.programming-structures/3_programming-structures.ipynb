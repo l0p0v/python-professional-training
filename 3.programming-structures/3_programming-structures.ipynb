{
 "cells": [
  {
   "cell_type": "markdown",
   "source": [
    "# If"
   ],
   "metadata": {
    "collapsed": false
   }
  },
  {
   "cell_type": "code",
   "execution_count": null,
   "metadata": {
    "collapsed": false
   },
   "outputs": [],
   "source": [
    "print(\"This is outside the ifs\")\n",
    "if True:\n",
    "\tprint(\"This code will executed\")\n",
    "\n",
    "print(\"This is outside the ifs\")\n",
    "\n",
    "# if False:\n",
    "# \tprint(\"This code will not execute\")\n",
    "\n",
    "print(\"This is outside the ifs\")"
   ]
  },
  {
   "cell_type": "code",
   "execution_count": null,
   "metadata": {
    "collapsed": false
   },
   "outputs": [],
   "source": [
    "if True:\n",
    "\tpass"
   ]
  },
  {
   "cell_type": "code",
   "execution_count": null,
   "outputs": [],
   "source": [
    "value1 = 10\n",
    "value2 = 10\n",
    "are_equals = value1 == value2\n",
    "if are_equals:\n",
    "\tprint(\"Are equals\")"
   ],
   "metadata": {
    "collapsed": false
   }
  },
  {
   "cell_type": "code",
   "execution_count": null,
   "outputs": [],
   "source": [
    "value1 = 10\n",
    "value2 = 10\n",
    "if value1 == value2:\n",
    "\tprint(\"Are equals\")\n",
    "\tprint(\"Are equals part II\")"
   ],
   "metadata": {
    "collapsed": false
   }
  },
  {
   "cell_type": "code",
   "execution_count": null,
   "outputs": [],
   "source": [
    "if 10 != 20:\n",
    "\tprint(\"Are different 1\")\n",
    "\n",
    "# if 10 != 10:\n",
    "# \tprint(\"Are different 2\")\n",
    "\n",
    "if \"hello\" != \"hi\":\n",
    "\tprint(\"Are different 3\")"
   ],
   "metadata": {
    "collapsed": false
   }
  },
  {
   "cell_type": "code",
   "execution_count": null,
   "outputs": [],
   "source": [
    "number = 11\n",
    "if number > 10:\n",
    "\tprint(f\"{number} is greater than 10\")"
   ],
   "metadata": {
    "collapsed": false
   }
  },
  {
   "cell_type": "code",
   "execution_count": null,
   "outputs": [],
   "source": [
    "name = input(\"Type your name: \")\n",
    "if \"a\" in name:\n",
    "\tprint(f\"'{name}' has the letter 'a'\")"
   ],
   "metadata": {
    "collapsed": false
   }
  },
  {
   "cell_type": "code",
   "execution_count": null,
   "outputs": [],
   "source": [
    "name = input(\"Type your name: \").lower()\n",
    "has_vowel = bool([word for word in name if word in \"aeiou\"])\n",
    "if has_vowel:\n",
    "\tprint(f\"'{name.capitalize()}' has a vowel\")"
   ],
   "metadata": {
    "collapsed": false
   }
  },
  {
   "cell_type": "markdown",
   "source": [
    "# Else"
   ],
   "metadata": {
    "collapsed": false
   }
  },
  {
   "cell_type": "code",
   "execution_count": null,
   "outputs": [],
   "source": [
    "number = 10\n",
    "if number >= 10:\n",
    "\tprint(f\"{number} is greater than or equal to 10\")\n",
    "\tprint(\"-\" * 40)\n",
    "else:\n",
    "\tprint(f\"{number} is smaller than 10\")\n",
    "\tprint(\"*\" * 40)\n",
    "print(\"Fim\")"
   ],
   "metadata": {
    "collapsed": false
   }
  },
  {
   "cell_type": "code",
   "execution_count": null,
   "outputs": [],
   "source": [
    "number = 9\n",
    "if not number % 2:\n",
    "\tprint(\"It's even\")\n",
    "else:\n",
    "\tprint(\"It's odd\")"
   ],
   "metadata": {
    "collapsed": false
   }
  },
  {
   "cell_type": "code",
   "execution_count": null,
   "outputs": [],
   "source": [
    "value = 11\n",
    "if 0 <= value < 10:\n",
    "\tprint(value)\n",
    "else:\n",
    "\tprint(\"Value not accepted\")"
   ],
   "metadata": {
    "collapsed": false
   }
  },
  {
   "cell_type": "code",
   "execution_count": null,
   "outputs": [],
   "source": [
    "text = \"a\"\n",
    "if len(text) == 1:\n",
    "\tprint(f\"'{text}' has 1 character\")\n",
    "else:\n",
    "\tprint(f\"'{text}' doesn't have 1 character\")"
   ],
   "metadata": {
    "collapsed": false
   }
  },
  {
   "cell_type": "markdown",
   "source": [
    "# Nesting ifs"
   ],
   "metadata": {
    "collapsed": false
   }
  },
  {
   "cell_type": "code",
   "execution_count": null,
   "outputs": [],
   "source": [
    "number = 1\n",
    "if 1 <= number <= 2:\n",
    "\tprint(f\"The number is 1 or 2\")"
   ],
   "metadata": {
    "collapsed": false
   }
  },
  {
   "cell_type": "code",
   "execution_count": null,
   "outputs": [],
   "source": [
    "number = -11\n",
    "if number >= 10:\n",
    "\tprint(\"The number is absolutely greater than or equal to 10\")\n",
    "elif number <= -10:\n",
    "\tprint(\"The number is absolutely greater than or equal to -10\")"
   ],
   "metadata": {
    "collapsed": false
   }
  },
  {
   "cell_type": "code",
   "execution_count": null,
   "outputs": [],
   "source": [
    "number = 10\n",
    "if number > 0:\n",
    "\tprint(\"Number is greater than zero\")\n",
    "\tif number > 10:\n",
    "\t\tprint(\"Number is greater than ten\")"
   ],
   "metadata": {
    "collapsed": false
   }
  },
  {
   "cell_type": "code",
   "execution_count": null,
   "outputs": [],
   "source": [
    "number = 1001\n",
    "if number < 10:\n",
    "\tprint(\"Smaller than 10\")\n",
    "elif number < 100:\n",
    "\tprint(\"Smaller than 100\")\n",
    "elif number <= 1000:\n",
    "\tprint(\"Smaller than or equal to 1000\")\n",
    "else:\n",
    "\tprint(\"None previous\")"
   ],
   "metadata": {
    "collapsed": false
   }
  },
  {
   "cell_type": "code",
   "execution_count": null,
   "outputs": [],
   "source": [
    "character = \"c\"\n",
    "print(\"It's vowel\" if bool([word for word in character if word in \"aeiou\"]) else \"It's consonant\")"
   ],
   "metadata": {
    "collapsed": false
   }
  },
  {
   "cell_type": "code",
   "execution_count": null,
   "outputs": [],
   "source": [
    "number = 13\n",
    "result = \"Even\" if not number % 2 else \"Odd\"\n",
    "print(result)"
   ],
   "metadata": {
    "collapsed": false
   }
  },
  {
   "cell_type": "code",
   "execution_count": null,
   "outputs": [],
   "source": [
    "number = 3\n",
    "result = \"One\" if number == 1 else \"Two\" if number == 2 else \"Three\" if number == 3 else \"...\"\n",
    "print(result)"
   ],
   "metadata": {
    "collapsed": false
   }
  },
  {
   "cell_type": "raw",
   "source": [
    "1 - Create a program that receives your bank balance and how much you owe. Then the program should tell you if you have a positive or negative balance."
   ],
   "metadata": {
    "collapsed": false
   }
  },
  {
   "cell_type": "code",
   "execution_count": null,
   "outputs": [],
   "source": [
    "balance = 1673.36\n",
    "owe = 352.35\n",
    "if owe > balance:\n",
    "\tprint(\"You've a negative balance\")\n",
    "else:\n",
    "\tprint(\"You've a positive balance :)\")"
   ],
   "metadata": {
    "collapsed": false
   }
  },
  {
   "cell_type": "raw",
   "source": [
    "2 - Create a program that has a variable that stores your CPF and that stores a password of your choice. Then receive a user password by input. If the password received is correct, show the CPF, if not, say that the password is incorrect."
   ],
   "metadata": {
    "collapsed": false
   }
  },
  {
   "cell_type": "code",
   "execution_count": null,
   "outputs": [],
   "source": [
    "CPF = \"941.049.060-00\"\n",
    "password = \"1234\"\n",
    "\n",
    "login = input(\"Password: \")\n",
    "\n",
    "if login == password:\n",
    "\tprint(\"Success!\", CPF, sep=\"\\n\")\n",
    "else:\n",
    "\tprint(\"Incorrect password\")"
   ],
   "metadata": {
    "collapsed": false
   }
  },
  {
   "cell_type": "raw",
   "source": [
    "3 - Create a program that talks about your age. The rules are as follows, you must input your age, if you are up to 3 years old, printe that you are a baby, up to 13 years old a child, up to 18 years old teenager, up to 65 years old adult. In none of these cases is an elderly person."
   ],
   "metadata": {
    "collapsed": false
   }
  },
  {
   "cell_type": "code",
   "execution_count": null,
   "outputs": [],
   "source": [
    "try:\n",
    "\tage = int(input(\"Your age: \"))\n",
    "\tif not 0 < age < 120:\n",
    "\t\traise ValueError\n",
    "except ValueError:\n",
    "\tprint(\"Invalid age\")\n",
    "else:\n",
    "\tprint(\"You're a \", end=\"\")\n",
    "\tif 0 < age < 120:\n",
    "\t\tif age < 3:\n",
    "\t\t\tprint(\"baby\")\n",
    "\t\telif age < 13:\n",
    "\t\t\tprint(\"child\")\n",
    "\t\telif age < 18:\n",
    "\t\t\tprint(\"teenager\")\n",
    "\t\telif age < 65:\n",
    "\t\t\tprint(\"adult\")\n",
    "\t\telse:\n",
    "\t\t\tprint(\"elderly person\")\n",
    "\telse:\n",
    "\t\tprint(\"Invalid age\")"
   ],
   "metadata": {
    "collapsed": false
   }
  },
  {
   "cell_type": "raw",
   "source": [
    "4 - Create a program that receives two numbers, and also receives from the user the operation that must be done, the possibilities are sum a(+), subtraction (-). division (/) and multiplication (*). Perform the chosen operation on the two numbers."
   ],
   "metadata": {
    "collapsed": false
   }
  },
  {
   "cell_type": "code",
   "execution_count": 3,
   "outputs": [
    {
     "name": "stdout",
     "output_type": "stream",
     "text": [
      "chosen operator: division\n",
      "1.0 / 2.0 = 0.5\n"
     ]
    }
   ],
   "source": [
    "try:\n",
    "\tnumber1 = float(input(\"first number: \"))\n",
    "\tnumber2 = float(input(\"second number: \"))\n",
    "\ttext = \"sum (+)\\n\" \\\n",
    "\t       \"subtraction (-)\\n\"\n",
    "\tif number2 == 0:\n",
    "\t\ttext += \"multiplication (*)\"\n",
    "\telse:\n",
    "\t\ttext += \"division (/)\\n\" \\\n",
    "\t\t        \"multiplication (*)\"\n",
    "except ValueError:\n",
    "\tprint(\"\\033[31mSome number is invalid\\033[m\")\n",
    "else:\n",
    "\top = input(text)\n",
    "\top = \"nan\" if not op else op\n",
    "\twhile bool([operator for operator in op if operator not in \"+-/*\"]):\n",
    "\t\top = input(text)\n",
    "\t\top = \"nan\" if not op else op\n",
    "\top = op[0]\n",
    "\n",
    "\tprint(\"chosen operator: \", end=\"\")\n",
    "\tif op == \"+\":\n",
    "\t\tprint(\"sum\")\n",
    "\t\toperation = number1 + number2\n",
    "\t\tprint(f\"{number1} + {number2} = {operation}\")\n",
    "\telif op == \"-\":\n",
    "\t\tprint(\"subtraction\")\n",
    "\t\toperation = number1 - number2\n",
    "\t\tprint(f\"{number1} - {number2} = {operation}\")\n",
    "\telif op == \"/\":\n",
    "\t\tprint(\"division\")\n",
    "\t\toperation = number1 / number2\n",
    "\t\tprint(f\"{number1} / {number2} = {operation}\")\n",
    "\telif op == \"*\":\n",
    "\t\tprint(\"multiplication\")\n",
    "\t\toperation = number1 * number2\n",
    "\t\tprint(f\"{number1} * {number2} = {operation}\")"
   ],
   "metadata": {
    "collapsed": false
   }
  },
  {
   "cell_type": "code",
   "execution_count": null,
   "outputs": [],
   "source": [],
   "metadata": {
    "collapsed": false
   }
  }
 ],
 "metadata": {
  "colab": {
   "name": "3_EstruturasdeProgramacao.ipynb",
   "provenance": []
  },
  "kernelspec": {
   "display_name": "Python 3.10.8 64-bit",
   "language": "python",
   "name": "python3"
  },
  "language_info": {
   "codemirror_mode": {
    "name": "ipython",
    "version": 3
   },
   "file_extension": ".py",
   "mimetype": "text/x-python",
   "name": "python",
   "nbconvert_exporter": "python",
   "pygments_lexer": "ipython3",
   "version": "3.10.8"
  },
  "vscode": {
   "interpreter": {
    "hash": "3196968d684371006099b3d55edeef8ed90365227a30deaef86e5d4aa8519be0"
   }
  }
 },
 "nbformat": 4,
 "nbformat_minor": 0
}
